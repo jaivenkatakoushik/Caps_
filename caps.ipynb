{
 "cells": [
  {
   "cell_type": "code",
   "execution_count": 18,
   "id": "93e08cfd-7ae3-44c4-a335-e85209c2c911",
   "metadata": {
    "tags": []
   },
   "outputs": [],
   "source": [
    "import torch\n",
    "from transformers import GPT2LMHeadModel, GPT2Tokenizer, Trainer, TrainingArguments\n",
    "from datasets import Dataset\n",
    "import json\n",
    "import pandas as pd\n",
    "import matplotlib.pyplot as plt\n",
    "import nltk\n",
    "from nltk.corpus import stopwords\n",
    "from nltk.stem import PorterStemmer"
   ]
  },
  {
   "cell_type": "code",
   "execution_count": 17,
   "id": "5cd405bb-c496-4a02-a863-27a2082694d7",
   "metadata": {
    "tags": []
   },
   "outputs": [
    {
     "name": "stderr",
     "output_type": "stream",
     "text": [
      "[nltk_data] Downloading package stopwords to /home/studio-lab-\n",
      "[nltk_data]     user/nltk_data...\n",
      "[nltk_data]   Package stopwords is already up-to-date!\n"
     ]
    }
   ],
   "source": [
    "nltk.download('stopwords')\n",
    "stop_words = set(stopwords.words('english'))\n",
    "stemmer = PorterStemmer()"
   ]
  },
  {
   "cell_type": "code",
   "execution_count": 19,
   "id": "01a6a654-6b73-4923-a493-50261dabc74f",
   "metadata": {
    "tags": []
   },
   "outputs": [
    {
     "name": "stdout",
     "output_type": "stream",
     "text": [
      "Path to dataset files: ./Capstone\n"
     ]
    }
   ],
   "source": [
    "dataset_path = \"./Capstone\"\n",
    "print(\"Path to dataset files:\", dataset_path)"
   ]
  },
  {
   "cell_type": "code",
   "execution_count": 20,
   "id": "9150e364-2990-48d5-8d1b-8466674e08bd",
   "metadata": {},
   "outputs": [],
   "source": [
    "tokenizer = GPT2Tokenizer.from_pretrained(\"gpt2\")\n",
    "model = GPT2LMHeadModel.from_pretrained(\"gpt2\")"
   ]
  },
  {
   "cell_type": "code",
   "execution_count": 21,
   "id": "5824b8c8-d1b9-4f28-b3d8-358461e4a55b",
   "metadata": {
    "tags": []
   },
   "outputs": [
    {
     "name": "stdout",
     "output_type": "stream",
     "text": [
      "{\"review_id\":\"KU_O5udG6zpxOg-VcAEodg\",\"user_id\":\"mh_-eMZ6K5RLWhZyISBhwA\",\"business_id\":\"XQfwVwDr-v0ZS3_CbbE5Xw\",\"stars\":3.0,\"useful\":0,\"funny\":0,\"cool\":0,\"text\":\"If you decide to eat here, just be aware it is going to take about 2 hours from beginning to end. We have tried it multiple times, because I want to like it! I have been to it's other locations in NJ and never had a bad experience. \\n\\nThe food is good, but it takes a very long time to come out. The waitstaff is very young, but usually pleasant. We have just had too many experiences where we spent way too long waiting. We usually opt for another diner or restaurant on the weekends, in order to be done quicker.\",\"date\":\"2018-07-07 22:09:11\"}\n",
      "\n",
      "{\"review_id\":\"BiTunyQ73aT9WBnpR9DZGw\",\"user_id\":\"OyoGAe7OKpv6SyGZT5g77Q\",\"business_id\":\"7ATYjTIgM3jUlt4UM3IypQ\",\"stars\":5.0,\"useful\":1,\"funny\":0,\"cool\":1,\"text\":\"I've taken a lot of spin classes over the years, and nothing compares to the classes at Body Cycle. From the nice, clean space and amazing bikes, to the welcoming and motivating instructors, every class is a top notch work out.\\n\\nFor anyone who struggles to fit workouts in, the online scheduling system makes it easy to plan ahead (and there's no need to line up way in advanced like many gyms make you do).\\n\\nThere is no way I can write this review without giving Russell, the owner of Body Cycle, a shout out. Russell's passion for fitness and cycling is so evident, as is his desire for all of his clients to succeed. He is always dropping in to classes to check in\\/provide encouragement, and is open to ideas and recommendations from anyone. Russell always wears a smile on his face, even when he's kicking your butt in class!\",\"date\":\"2012-01-03 15:28:18\"}\n",
      "\n"
     ]
    }
   ],
   "source": [
    "data = []\n",
    "with open(f\"{dataset_path}/yelp_academic_dataset_review.json\", \"r\", encoding=\"utf-8\") as f:\n",
    "    k=0\n",
    "    for line in f:\n",
    "        print(line)\n",
    "        if(k==1):\n",
    "            break\n",
    "        k+=1"
   ]
  },
  {
   "cell_type": "code",
   "execution_count": 22,
   "id": "56a8a790-eb0c-4e34-8daf-6ecd53ee86f9",
   "metadata": {
    "tags": []
   },
   "outputs": [
    {
     "data": {
      "text/plain": [
       "{'review_id': 'KU_O5udG6zpxOg-VcAEodg',\n",
       " 'user_id': 'mh_-eMZ6K5RLWhZyISBhwA',\n",
       " 'business_id': 'XQfwVwDr-v0ZS3_CbbE5Xw',\n",
       " 'stars': 3.0,\n",
       " 'text': \"If you decide to eat here, just be aware it is going to take about 2 hours from beginning to end. We have tried it multiple times, because I want to like it! I have been to it's other locations in NJ and never had a bad experience. \\n\\nThe food is good, but it takes a very long time to come out. The waitstaff is very young, but usually pleasant. We have just had too many experiences where we spent way too long waiting. We usually opt for another diner or restaurant on the weekends, in order to be done quicker.\",\n",
       " 'date': '2018-07-07 22:09:11'}"
      ]
     },
     "execution_count": 22,
     "metadata": {},
     "output_type": "execute_result"
    }
   ],
   "source": [
    "data = []\n",
    "k=0\n",
    "with open(f\"{dataset_path}/yelp_academic_dataset_review.json\", \"r\", encoding=\"utf-8\") as f:\n",
    "    for line in f:\n",
    "        if k==20:\n",
    "            break\n",
    "        try:\n",
    "            entry = json.loads(line.strip())\n",
    "            if all(key in entry for key in [\"review_id\", \"user_id\", \"business_id\", \"stars\", \"text\", \"date\"]):\n",
    "                data.append({\"review_id\": entry[\"review_id\"], \"user_id\": entry[\"user_id\"], \"business_id\": entry[\"business_id\"], \"stars\": entry[\"stars\"], \"text\": entry[\"text\"], \"date\": entry[\"date\"]})\n",
    "        except json.JSONDecodeError as e:\n",
    "            print(f\"Skipping invalid JSON line: {e}\")\n",
    "        k+=1\n",
    "data[0]"
   ]
  },
  {
   "cell_type": "code",
   "execution_count": 23,
   "id": "56319626-ab48-48da-bf33-8f5fed3d2d40",
   "metadata": {
    "tags": []
   },
   "outputs": [
    {
     "name": "stdout",
     "output_type": "stream",
     "text": [
      "Loaded 20 valid reviews.\n"
     ]
    }
   ],
   "source": [
    "df = pd.DataFrame(data)\n",
    "print(\"Loaded\", len(df), \"valid reviews.\")"
   ]
  },
  {
   "cell_type": "code",
   "execution_count": 24,
   "id": "40e6a03f-8f60-4b62-96e3-163acc47b744",
   "metadata": {
    "tags": []
   },
   "outputs": [],
   "source": [
    "def preprocess_text(text):\n",
    "    words = text.lower().split()\n",
    "    words = [stemmer.stem(word) for word in words if word not in stop_words]\n",
    "    return \" \".join(words)"
   ]
  },
  {
   "cell_type": "code",
   "execution_count": 25,
   "id": "61834fcd-cae2-45f1-953c-4219545a074c",
   "metadata": {
    "tags": []
   },
   "outputs": [],
   "source": [
    "df[\"processed_text\"] = df[\"text\"].apply(preprocess_text)"
   ]
  },
  {
   "cell_type": "code",
   "execution_count": 26,
   "id": "01838a0d-a0d2-4d1d-9e99-e6bc0dc847c9",
   "metadata": {
    "tags": []
   },
   "outputs": [
    {
     "name": "stdout",
     "output_type": "stream",
     "text": [
      "Dataset columns after processing: ['review_id', 'user_id', 'business_id', 'stars', 'text', 'date', 'processed_text']\n"
     ]
    }
   ],
   "source": [
    "dataset = Dataset.from_pandas(df)\n",
    "print(\"Dataset columns after processing:\", dataset.column_names)"
   ]
  },
  {
   "cell_type": "code",
   "execution_count": 27,
   "id": "f6c538e3-789e-4c6e-8bf6-a100ca3c798b",
   "metadata": {
    "tags": []
   },
   "outputs": [
    {
     "data": {
      "application/vnd.jupyter.widget-view+json": {
       "model_id": "145db8f6342f40cc9b1ce71240a854bb",
       "version_major": 2,
       "version_minor": 0
      },
      "text/plain": [
       "Map:   0%|          | 0/20 [00:00<?, ? examples/s]"
      ]
     },
     "metadata": {},
     "output_type": "display_data"
    },
    {
     "name": "stdout",
     "output_type": "stream",
     "text": [
      "20\n"
     ]
    }
   ],
   "source": [
    "tokenizer.pad_token = tokenizer.eos_token\n",
    "# Tokenization\n",
    "def tokenize_function(examples):\n",
    "    tokenized = tokenizer(examples[\"processed_text\"], truncation=True, padding=\"max_length\", max_length=512)\n",
    "    tokenized[\"labels\"] = tokenized[\"input_ids\"][:]  # Copy input_ids to labels\n",
    "    print(k)\n",
    "    return tokenized\n",
    "\n",
    "dataset = dataset.map(tokenize_function, batched=True)\n"
   ]
  },
  {
   "cell_type": "code",
   "execution_count": 28,
   "id": "5376608d-b3ce-44ef-b3a1-a3933c8d3192",
   "metadata": {
    "tags": []
   },
   "outputs": [
    {
     "name": "stdout",
     "output_type": "stream",
     "text": [
      "Dataset columns after processing: ['review_id', 'user_id', 'business_id', 'stars', 'text', 'date', 'processed_text', 'input_ids', 'attention_mask', 'labels']\n"
     ]
    }
   ],
   "source": [
    "print(\"Dataset columns after processing:\", dataset.column_names)\n"
   ]
  },
  {
   "cell_type": "code",
   "execution_count": 29,
   "id": "53429633-f448-4bab-a30e-1a3e34dab364",
   "metadata": {
    "tags": []
   },
   "outputs": [
    {
     "name": "stderr",
     "output_type": "stream",
     "text": [
      "/home/studio-lab-user/.conda/envs/default/lib/python3.9/site-packages/transformers/training_args.py:1594: FutureWarning: `evaluation_strategy` is deprecated and will be removed in version 4.46 of 🤗 Transformers. Use `eval_strategy` instead\n",
      "  warnings.warn(\n"
     ]
    }
   ],
   "source": [
    "training_args = TrainingArguments(\n",
    "    output_dir=\"./results\",\n",
    "    evaluation_strategy=\"epoch\",\n",
    "    save_strategy=\"epoch\",\n",
    "    logging_strategy=\"epoch\",\n",
    "    learning_rate=2e-5,\n",
    "    weight_decay=0.01,\n",
    "    per_device_train_batch_size=4,\n",
    "    per_device_eval_batch_size=4,\n",
    "    num_train_epochs=3,\n",
    "    save_total_limit=2,\n",
    "    logging_dir=\"./logs\",\n",
    "    report_to=\"none\"\n",
    ")"
   ]
  },
  {
   "cell_type": "code",
   "execution_count": 30,
   "id": "7c8160d5-8cba-480f-8eb4-f94dd10f5ca0",
   "metadata": {
    "tags": []
   },
   "outputs": [],
   "source": [
    "from transformers import Trainer, TrainingArguments\n",
    "from datasets import load_dataset\n",
    "from datasets import DatasetDict\n",
    "\n",
    "# Split the dataset into training (80%) and validation (20%)\n",
    "dataset = dataset.train_test_split(test_size=0.2)\n",
    "\n",
    "# Assign split datasets\n",
    "train_dataset = dataset[\"train\"]\n",
    "eval_dataset = dataset[\"test\"]\n",
    "\n",
    "# Trainer setup with proper dataset splits\n",
    "trainer = Trainer(\n",
    "    model=model,\n",
    "    args=training_args,\n",
    "    train_dataset=train_dataset,\n",
    "    eval_dataset=eval_dataset\n",
    ")\n"
   ]
  },
  {
   "cell_type": "code",
   "execution_count": 31,
   "id": "89ac2313-40ed-43e0-aa70-a40ef1102c71",
   "metadata": {
    "tags": []
   },
   "outputs": [
    {
     "name": "stderr",
     "output_type": "stream",
     "text": [
      "`loss_type=None` was set in the config but it is unrecognised.Using the default loss: `ForCausalLMLoss`.\n"
     ]
    },
    {
     "data": {
      "text/html": [
       "\n",
       "    <div>\n",
       "      \n",
       "      <progress value='12' max='12' style='width:300px; height:20px; vertical-align: middle;'></progress>\n",
       "      [12/12 02:11, Epoch 3/3]\n",
       "    </div>\n",
       "    <table border=\"1\" class=\"dataframe\">\n",
       "  <thead>\n",
       " <tr style=\"text-align: left;\">\n",
       "      <th>Epoch</th>\n",
       "      <th>Training Loss</th>\n",
       "      <th>Validation Loss</th>\n",
       "    </tr>\n",
       "  </thead>\n",
       "  <tbody>\n",
       "    <tr>\n",
       "      <td>1</td>\n",
       "      <td>5.785200</td>\n",
       "      <td>3.069405</td>\n",
       "    </tr>\n",
       "    <tr>\n",
       "      <td>2</td>\n",
       "      <td>2.330600</td>\n",
       "      <td>1.447000</td>\n",
       "    </tr>\n",
       "    <tr>\n",
       "      <td>3</td>\n",
       "      <td>1.402800</td>\n",
       "      <td>1.127721</td>\n",
       "    </tr>\n",
       "  </tbody>\n",
       "</table><p>"
      ],
      "text/plain": [
       "<IPython.core.display.HTML object>"
      ]
     },
     "metadata": {},
     "output_type": "display_data"
    }
   ],
   "source": [
    "train_result = trainer.train()"
   ]
  },
  {
   "cell_type": "code",
   "execution_count": 32,
   "id": "6baa79a3-8cd3-416e-8a6a-b8624fed80ad",
   "metadata": {},
   "outputs": [
    {
     "data": {
      "text/plain": [
       "('./fine_tuned_gpt2/tokenizer_config.json',\n",
       " './fine_tuned_gpt2/special_tokens_map.json',\n",
       " './fine_tuned_gpt2/vocab.json',\n",
       " './fine_tuned_gpt2/merges.txt',\n",
       " './fine_tuned_gpt2/added_tokens.json')"
      ]
     },
     "execution_count": 32,
     "metadata": {},
     "output_type": "execute_result"
    }
   ],
   "source": [
    "model.save_pretrained(\"./fine_tuned_gpt2\")\n",
    "tokenizer.save_pretrained(\"./fine_tuned_gpt2\")\n"
   ]
  },
  {
   "cell_type": "code",
   "execution_count": 33,
   "id": "c3985afa-b2c5-455b-9748-0a0b06b51e12",
   "metadata": {},
   "outputs": [],
   "source": [
    "metrics = train_result.metrics\n",
    "with open(\"training_metrics.json\", \"w\") as f:\n",
    "    json.dump(metrics, f)\n"
   ]
  },
  {
   "cell_type": "code",
   "execution_count": 34,
   "id": "75540602-9236-41d3-8495-6241e1d6635f",
   "metadata": {},
   "outputs": [
    {
     "data": {
      "image/png": "[encoded data removed]",
      "text/plain": [
       "<Figure size 640x480 with 1 Axes>"
      ]
     },
     "metadata": {},
     "output_type": "display_data"
    }
   ],
   "source": [
    "def plot_loss():\n",
    "    train_loss = trainer.state.log_history\n",
    "    losses = [entry[\"loss\"] for entry in train_loss if \"loss\" in entry]\n",
    "    epochs = list(range(1, len(losses) + 1))\n",
    "    plt.plot(epochs, losses, marker='o', label='Training Loss')\n",
    "    plt.xlabel(\"Epoch\")\n",
    "    plt.ylabel(\"Loss\")\n",
    "    plt.title(\"Training Loss Over Epochs\")\n",
    "    plt.legend()\n",
    "    plt.show()\n",
    "\n",
    "plot_loss()\n"
   ]
  },
  {
   "cell_type": "code",
   "execution_count": 35,
   "id": "fa103f31-f1c5-451c-97c0-8945befe7c58",
   "metadata": {},
   "outputs": [],
   "source": [
    "def generate_response(prompt, max_length=50):\n",
    "    inputs = tokenizer(prompt, return_tensors=\"pt\", truncation=True, max_length=512)\n",
    "    outputs = model.generate(**inputs, max_length=max_length, num_return_sequences=1, temperature=0.7)\n",
    "    return tokenizer.decode(outputs[0], skip_special_tokens=True)\n",
    "\n",
    "# Feedback generation using rating\n",
    "def generate_feedback(review_text, rating):\n",
    "    prompt = f\"Generate feedback based on rating {rating}: {review_text}\"\n",
    "    return generate_response(prompt)\n",
    "\n",
    "# Feedback response\n",
    "def respond_to_feedback(feedback_text):\n",
    "    prompt = f\"Respond to this customer feedback: {feedback_text}\"\n",
    "    return generate_response(prompt)\n",
    "\n",
    "# Review insights extraction\n",
    "def extract_review_insights(review_text):\n",
    "    prompt = f\"Provide insights for this review: {review_text}\"\n",
    "    return generate_response(prompt)\n"
   ]
  },
  {
   "cell_type": "code",
   "execution_count": 36,
   "id": "548ddddb-ed30-4606-8781-806c25d28824",
   "metadata": {},
   "outputs": [
    {
     "name": "stderr",
     "output_type": "stream",
     "text": [
      "/home/studio-lab-user/.conda/envs/default/lib/python3.9/site-packages/transformers/generation/configuration_utils.py:629: UserWarning: `do_sample` is set to `False`. However, `temperature` is set to `0.7` -- this flag is only used in sample-based generation modes. You should set `do_sample=True` or unset `temperature`.\n",
      "  warnings.warn(\n",
      "Setting `pad_token_id` to `eos_token_id`:50256 for open-end generation.\n",
      "Setting `pad_token_id` to `eos_token_id`:50256 for open-end generation.\n"
     ]
    },
    {
     "name": "stdout",
     "output_type": "stream",
     "text": [
      "Feedback Generation:\n",
      "\n",
      " Generate feedback based on rating 4: The food was amazing, but the service was slow. I would recommend this place to anyone who is looking for a great place to eat.\n"
     ]
    },
    {
     "name": "stderr",
     "output_type": "stream",
     "text": [
      "Setting `pad_token_id` to `eos_token_id`:50256 for open-end generation.\n"
     ]
    },
    {
     "name": "stdout",
     "output_type": "stream",
     "text": [
      "Feedback Response:\n",
      "\n",
      " Respond to this customer feedback: The service was slow. I was able to get a refund within a few hours.\n",
      "Review Insights:\n",
      "\n",
      " Provide insights for this review: The ambiance was great but the food was overpriced. The service was very good and the staff was friendly. The food was good but the service was not good. The service was not good. The food\n"
     ]
    }
   ],
   "source": [
    "print(\"Feedback Generation:\\n\\n\", generate_feedback(\"The food was amazing, but the service was slow.\", 4))\n",
    "print(\"Feedback Response:\\n\\n\", respond_to_feedback(\"The service was slow.\"))\n",
    "print(\"Review Insights:\\n\\n\", extract_review_insights(\"The ambiance was great but the food was overpriced.\"))"
   ]
  },
  {
   "cell_type": "code",
   "execution_count": 45,
   "id": "ebef3bfe-cc66-42b1-b46d-223069bf1002",
   "metadata": {},
   "outputs": [],
   "source": [
    "import evaluate\n",
    "\n",
    "def compute_rouge(predictions, references):\n",
    "    rouge = evaluate.load(\"rouge\")\n",
    "    results = rouge.compute(predictions=predictions, references=references)\n",
    "    return results\n",
    "\n",
    "# Compute Perplexity\n",
    "def compute_perplexity(text):\n",
    "    inputs = tokenizer(text, return_tensors=\"pt\", truncation=True, max_length=512)\n",
    "    with torch.no_grad():\n",
    "        outputs = model(**inputs, labels=inputs[\"input_ids\"])\n",
    "        loss = outputs.loss\n",
    "    perplexity = torch.exp(loss)\n",
    "    return perplexity.item()\n",
    "\n",
    "# Compute Accuracy\n",
    "def compute_accuracy(predictions, references):\n",
    "    correct = sum([1 for pred, ref in zip(predictions, references) if pred.strip() == ref.strip()])\n",
    "    return correct / len(predictions) if predictions else 0"
   ]
  },
  {
   "cell_type": "code",
   "execution_count": 46,
   "id": "198b7737-6e10-4284-8239-d8565256c1d6",
   "metadata": {
    "tags": []
   },
   "outputs": [
    {
     "name": "stdout",
     "output_type": "stream",
     "text": [
      "ROUGE Score: {'rouge1': 0.6666666666666666, 'rouge2': 0.375, 'rougeL': 0.6666666666666666, 'rougeLsum': 0.6666666666666666}\n",
      "Perplexity: 19.483152389526367\n",
      "Accuracy: 0.0\n"
     ]
    }
   ],
   "source": [
    "preds = [\"The ambiance was good, but food was too expensive.\"]\n",
    "refs = [\"The ambiance was great but the food was overpriced.\"]\n",
    "rouge_scores = compute_rouge(preds, refs)\n",
    "print(\"ROUGE Score:\", rouge_scores)\n",
    "\n",
    "# Example Perplexity computation\n",
    "example_text = \"The food was great but the service was slow.\"\n",
    "perplexity_score = compute_perplexity(example_text)\n",
    "print(\"Perplexity:\", perplexity_score)\n",
    "\n",
    "# Example Accuracy computation\n",
    "accuracy_score = compute_accuracy(preds, refs)\n",
    "print(\"Accuracy:\", accuracy_score)"
   ]
  },
  {
   "cell_type": "code",
   "execution_count": 52,
   "id": "5cdf8e54-1f2c-428d-9bfd-22e7e22107c3",
   "metadata": {
    "tags": []
   },
   "outputs": [
    {
     "name": "stdout",
     "output_type": "stream",
     "text": [
      "BLEU Score: 0\n"
     ]
    }
   ],
   "source": [
    "from nltk.translate.bleu_score import sentence_bleu, corpus_bleu\n",
    "bleu_score = sentence_bleu(refs, preds)\n",
    "print(\"BLEU Score:\", bleu_score)"
   ]
  },
  {
   "cell_type": "code",
   "execution_count": null,
   "id": "947682c2-395c-401c-bee3-b60d7e3c0346",
   "metadata": {},
   "outputs": [],
   "source": []
  }
 ],
 "metadata": {
  "kernelspec": {
   "display_name": ".conda-default:Python",
   "language": "python",
   "name": "conda-env-.conda-default-py"
  },
  "language_info": {
   "codemirror_mode": {
    "name": "ipython",
    "version": 3
   },
   "file_extension": ".py",
   "mimetype": "text/x-python",
   "name": "python",
   "nbconvert_exporter": "python",
   "pygments_lexer": "ipython3",
   "version": "3.9.19"
  }
 },
 "nbformat": 4,
 "nbformat_minor": 5
}
